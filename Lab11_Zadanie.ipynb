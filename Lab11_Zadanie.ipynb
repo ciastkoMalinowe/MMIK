{
 "cells": [
  {
   "cell_type": "code",
   "execution_count": 340,
   "metadata": {},
   "outputs": [
    {
     "name": "stderr",
     "output_type": "stream",
     "text": [
      "ibmqfactory.load_account:WARNING:2020-05-30 18:59:29,942: Credentials are already in use. The existing account in the session will be replaced.\n"
     ]
    }
   ],
   "source": [
    "%matplotlib inline\n",
    "# Importing standard Qiskit libraries and configuring account\n",
    "from qiskit import QuantumCircuit, execute, Aer, IBMQ, QuantumRegister\n",
    "from qiskit.compiler import transpile, assemble\n",
    "from qiskit.tools.jupyter import *\n",
    "from qiskit.visualization import *\n",
    "# Loading your IBM Q account(s)\n",
    "provider = IBMQ.load_account()"
   ]
  },
  {
   "cell_type": "markdown",
   "metadata": {},
   "source": [
    "# Measurement Error Mitigation\n",
    "\n",
    "1.  Tworzymy układ w którym dokonujemy pomiaru na wejściu, uruchamiamy układ wiele razy i dla każdego wejścia zapisujemy wektor wynikowy - prawdopodobieństwa odczytania kolejnych wartości (np dla 2 qubitów (P(|00>), P(|01>), P(|10>), P(|11>)))  \n",
    "3.  Konstruujemy macierz M traktując wektory wynikowe jako kolumny (kolejność kolumn to kolejność wejść do układu tj pierwsza kolumna to wyniki uzyskane dla |0..0>, druga dla |0..1> etc)  \n",
    "4.  Liczymy macierz odwrotną do macierzy M - N\n",
    "5. Żeby zmniejszyć błędy wynik uzyskany po uruchomieniu wybranego układu mnożymy przez macierz N\n",
    "  \n",
    "W Qiskit ignis znajdują się gotowe metody, w szczególności macierzy M nie trzeba odwracać (może sie nie dać), a w zamian używany jest fitter oparty na metodzie najmneijszych kwadratów.  \n",
    "\n",
    "Przetestuję działanie measurement error mitigation na  błądzeniu przypadkowym z liczbą kroków = 2"
   ]
  },
  {
   "cell_type": "code",
   "execution_count": 306,
   "metadata": {},
   "outputs": [
    {
     "data": {
      "text/plain": [
       "<qiskit.circuit.instructionset.InstructionSet at 0x7f6c25ed5690>"
      ]
     },
     "execution_count": 306,
     "metadata": {},
     "output_type": "execute_result"
    }
   ],
   "source": [
    "#algorytm błądzenia przypadkowego dla 3 qubitóq\n",
    "inc = QuantumCircuit(3)\n",
    "inc.ccx(0,1,2)\n",
    "inc.cx(0,1)\n",
    "inc.draw()\n",
    "\n",
    "dec = QuantumCircuit(3)\n",
    "dec.x(0)\n",
    "dec.x(1)\n",
    "dec.ccx(0,1,2)\n",
    "dec.x(1)\n",
    "dec.cx(0,1)\n",
    "dec.x(0)\n",
    "dec.draw()\n",
    "\n",
    "random_walk_step = QuantumCircuit(3)\n",
    "random_walk_step.h(0)\n",
    "random_walk_step = random_walk_step + inc + dec \n",
    "random_walk_step.draw()\n",
    "\n",
    "def random_walk(step):\n",
    "    random_walk = random_walk_step.copy()\n",
    "    for s in range(step-1):\n",
    "        random_walk += random_walk_step\n",
    "    return random_walk\n",
    "\n",
    "measured = QuantumCircuit(3, 2)\n",
    "measured.barrier([1,2])\n",
    "measured.measure([1,2],[0,1])"
   ]
  },
  {
   "cell_type": "code",
   "execution_count": 341,
   "metadata": {},
   "outputs": [],
   "source": [
    "qc = random_walk(2) + measured"
   ]
  },
  {
   "cell_type": "code",
   "execution_count": 342,
   "metadata": {},
   "outputs": [],
   "source": [
    "from qiskit.ignis.mitigation.measurement import (complete_meas_cal,CompleteMeasFitter)\n",
    "\n",
    "# przygotowanie zbioru obwodów dla stanów bazowych dla 2 qubitów\n",
    "meas_calibs, state_labels = complete_meas_cal(qr=QuantumRegister(2), circlabel='mcal')"
   ]
  },
  {
   "cell_type": "code",
   "execution_count": 343,
   "metadata": {},
   "outputs": [],
   "source": [
    "# Wykonanie obwodów kalibrujących dla ibmqx2\n",
    "backend = provider.get_backend('ibmqx2')\n",
    "job = execute(meas_calibs, backend=backend, shots=1024, optimization_level = 0)\n",
    "cal_results = job.result()"
   ]
  },
  {
   "cell_type": "code",
   "execution_count": 344,
   "metadata": {},
   "outputs": [
    {
     "data": {
      "image/png": "[encoded data removed]",
      "text/plain": [
       "<Figure size 432x288 with 2 Axes>"
      ]
     },
     "metadata": {
      "needs_background": "light"
     },
     "output_type": "display_data"
    }
   ],
   "source": [
    "#uzyskana macierz kalibracji\n",
    "meas_fitter = CompleteMeasFitter(cal_results, state_labels)\n",
    "meas_fitter.plot_calibration()"
   ]
  },
  {
   "cell_type": "code",
   "execution_count": 345,
   "metadata": {},
   "outputs": [
    {
     "name": "stdout",
     "output_type": "stream",
     "text": [
      "{'01': 146, '10': 258, '11': 88, '00': 532}\n"
     ]
    }
   ],
   "source": [
    "results = execute(qc, backend=backend, shots=1024).result()\n",
    "\n",
    "noisy_counts = results.get_counts()\n",
    "print(noisy_counts)"
   ]
  },
  {
   "cell_type": "code",
   "execution_count": 346,
   "metadata": {},
   "outputs": [
    {
     "name": "stdout",
     "output_type": "stream",
     "text": [
      "[[0.99121094 0.02246094 0.04199219 0.00195312]\n",
      " [0.00390625 0.97265625 0.12792969 0.03710938]\n",
      " [0.00488281 0.         0.74414062 0.01171875]\n",
      " [0.         0.00488281 0.0859375  0.94921875]]\n",
      "['00', '01', '10', '11']\n",
      "{'01': 146, '10': 258, '11': 88, '00': 532}\n",
      "{'00': 519.8129553834831, '01': 100.65612789088121, '10': 342.33408562983334, '11': 61.196831095802864}\n"
     ]
    }
   ],
   "source": [
    "meas_filter = meas_fitter.filter\n",
    "print(meas_filter.cal_matrix)\n",
    "print(meas_filter.state_labels)\n",
    "print(noisy_counts)\n",
    "\n",
    "mitigated_counts = meas_filter.apply(noisy_counts, method = 'pseudo_inverse')\n",
    "print(mitigated_counts)"
   ]
  },
  {
   "cell_type": "code",
   "execution_count": 347,
   "metadata": {},
   "outputs": [],
   "source": [
    "backend = Aer.get_backend('qasm_simulator')\n",
    "job = execute(qc, backend, shots=1024)\n",
    "result = job.result()\n",
    "quasm_counts = result.get_counts(qc)"
   ]
  },
  {
   "cell_type": "code",
   "execution_count": 348,
   "metadata": {},
   "outputs": [
    {
     "data": {
      "image/png": "[encoded data removed]",
      "text/plain": [
       "<Figure size 504x360 with 1 Axes>"
      ]
     },
     "execution_count": 348,
     "metadata": {},
     "output_type": "execute_result"
    }
   ],
   "source": [
    "plot_histogram([noisy_counts, mitigated_counts, quasm_counts], legend=['noisy', 'mitigated', 'quasm'])"
   ]
  },
  {
   "cell_type": "markdown",
   "metadata": {},
   "source": [
    "WYNIKI i WNIOSKI:  \n",
    "Winik udało się ledwie nieznacznie poprawić. Jest to związane z faktem, że metoda stara się zniwelowac błędy wprowadzone przez pomiar, a w przypadku błądzenia przypadkowego jest duzo bramek (i wprowadzanych przez nie błedów) w porównaniu do liczby mierzonych qubitów."
   ]
  }
 ],
 "metadata": {
  "kernelspec": {
   "display_name": "Python 3",
   "language": "python",
   "name": "python3"
  },
  "language_info": {
   "codemirror_mode": {
    "name": "ipython",
    "version": 3
   },
   "file_extension": ".py",
   "mimetype": "text/x-python",
   "name": "python",
   "nbconvert_exporter": "python",
   "pygments_lexer": "ipython3",
   "version": "3.7.6"
  }
 },
 "nbformat": 4,
 "nbformat_minor": 4
}
